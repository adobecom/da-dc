{
 "cells": [
  {
   "cell_type": "markdown",
   "metadata": {},
   "source": [
    "### Set the auth toke and site"
   ]
  },
  {
   "cell_type": "code",
   "execution_count": 1,
   "metadata": {},
   "outputs": [],
   "source": [
    "const token = 'My auth token';\n",
    "const site = 'da-dc';\n",
    "\n",
    "async function logError(response) {\n",
    "  console.error(`Request failed with status: ${response.status} ${response.statusText}`);\n",
    "  \n",
    "  console.error('Response Headers:');\n",
    "  for (const [key, value] of response.headers.entries()) {\n",
    "    console.error(`  ${key}: ${value}`);\n",
    "  }\n",
    "  \n",
    "  try {\n",
    "    const errorData = await response.json();\n",
    "    console.error('Error Response Body:', errorData);\n",
    "  } catch (e) {\n",
    "    const errorText = await response.text();\n",
    "    console.error('Error Response Body (text):', errorText);\n",
    "  }\n",
    "  \n",
    "  throw new Error(`HTTP ${response.status}: ${response.statusText}`);\n",
    "}"
   ]
  },
  {
   "cell_type": "markdown",
   "metadata": {},
   "source": [
    "### Get the sitemap config from EDS"
   ]
  },
  {
   "cell_type": "code",
   "execution_count": null,
   "metadata": {},
   "outputs": [],
   "source": [
    "const response = await fetch(`https://admin.hlx.page/config/adobecom/sites/${site}/content/sitemap.yaml`, {\n",
    "  headers: {\n",
    "    'x-auth-token': token,\n",
    "  }\n",
    "});\n",
    "\n",
    "if (!response.ok) {\n",
    "  logError(response);\n",
    "}\n",
    "\n",
    "const outputFile = `${site}_sitemap.yaml`;\n",
    "const sitemapCfg = await response.text();\n",
    "await Deno.writeTextFile(outputFile, sitemapCfg);\n",
    "console.log(sitemapCfg);"
   ]
  },
  {
   "cell_type": "markdown",
   "metadata": {},
   "source": [
    "### Update the sitemap config"
   ]
  },
  {
   "cell_type": "code",
   "execution_count": null,
   "metadata": {},
   "outputs": [],
   "source": [
    "const inputFile = `${site}_sitemap.yaml`;\n",
    "const sitemapCfg = await Deno.readTextFile(inputFile);\n",
    "\n",
    "const response = await fetch(`https://admin.hlx.page/config/adobecom/sites/${site}/content/sitemap.yaml`, {\n",
    "  method: 'POST',\n",
    "  headers: {\n",
    "    'x-auth-token': token,\n",
    "    'content-type': 'text/yaml'\n",
    "  },\n",
    "  body: sitemapCfg,\n",
    "});\n",
    "\n",
    "if (response.ok) {\n",
    "  console.log(response.status);\n",
    "  const sitemapCfgUpdated = await response.text();\n",
    "  console.log(sitemapCfgUpdated);\n",
    "} else {\n",
    "  logError(response);\n",
    "}"
   ]
  },
  {
   "cell_type": "markdown",
   "metadata": {},
   "source": [
    "### Force update of sitemap.xml\n",
    "\n",
    "* If sitemap.xml files are generated successfully, it returns a lists of sitemap.xml paths.\n",
    "* If failed, check the error message."
   ]
  },
  {
   "cell_type": "code",
   "execution_count": null,
   "metadata": {},
   "outputs": [],
   "source": [
    "const response = await fetch(`https://admin.hlx.page/sitemap/adobecom/${site}/main/dc-shared/assets/sitemap.xml`, {\n",
    "  method: 'POST',\n",
    "  headers: {\n",
    "    'x-auth-token': token,\n",
    "  }\n",
    "});\n",
    "\n",
    "if (!response.ok) {\n",
    "  logError(response);\n",
    "} else {\n",
    "  const sitemap = await response.text();\n",
    "  console.log(sitemap);\n",
    "}"
   ]
  }
 ],
 "metadata": {
  "kernelspec": {
   "display_name": "Deno",
   "language": "typescript",
   "name": "deno"
  },
  "language_info": {
   "codemirror_mode": "typescript",
   "file_extension": ".ts",
   "mimetype": "text/x.typescript",
   "name": "typescript",
   "nbconvert_exporter": "script",
   "pygments_lexer": "typescript",
   "version": "5.8.3"
  }
 },
 "nbformat": 4,
 "nbformat_minor": 2
}

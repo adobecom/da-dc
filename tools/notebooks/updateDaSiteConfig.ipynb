{
 "cells": [
  {
   "cell_type": "markdown",
   "metadata": {},
   "source": [
    "### Set the auth toke and site"
   ]
  },
  {
   "cell_type": "code",
   "execution_count": 1,
   "metadata": {},
   "outputs": [],
   "source": [
    "const token = 'My auth token';\n",
    "const site = 'da-dc';\n",
    "\n",
    "async function logError(response) {\n",
    "  console.error(`Request failed with status: ${response.status} ${response.statusText}`);\n",
    "  \n",
    "  console.error('Response Headers:');\n",
    "  for (const [key, value] of response.headers.entries()) {\n",
    "    console.error(`  ${key}: ${value}`);\n",
    "  }\n",
    "  \n",
    "  try {\n",
    "    const errorData = await response.json();\n",
    "    console.error('Error Response Body:', errorData);\n",
    "  } catch (e) {\n",
    "    const errorText = await response.text();\n",
    "    console.error('Error Response Body (text):', errorText);\n",
    "  }\n",
    "  \n",
    "  throw new Error(`HTTP ${response.status}: ${response.statusText}`);\n",
    "}"
   ]
  },
  {
   "cell_type": "markdown",
   "metadata": {},
   "source": [
    "### Get the site config from EDS"
   ]
  },
  {
   "cell_type": "code",
   "execution_count": null,
   "metadata": {},
   "outputs": [],
   "source": [
    "const response = await fetch(`https://admin.hlx.page/config/adobecom/sites/${site}.json`, {\n",
    "  headers: {\n",
    "    'x-auth-token': token,\n",
    "  }\n",
    "});\n",
    "\n",
    "if (!response.ok) {\n",
    "  logError(response);\n",
    "}\n",
    "\n",
    "const outputFile = `${site}.json`;\n",
    "const siteCfg = await response.json();\n",
    "await Deno.writeTextFile(outputFile, JSON.stringify(siteCfg, null, 2));\n",
    "console.log(siteCfg);"
   ]
  },
  {
   "cell_type": "markdown",
   "metadata": {},
   "source": [
    "### Update the site config"
   ]
  },
  {
   "cell_type": "code",
   "execution_count": null,
   "metadata": {},
   "outputs": [],
   "source": [
    "delete siteCfg.created;\n",
    "delete siteCfg.lastModified;\n",
    "// reset the list of config admins\n",
    "//siteCfg.access.admin.role.config_admin = [ \"...@adobe.com\", \"...@adobe.com\" ]\n",
    "// add to the existing list of config admins\n",
    "siteCfg.access.admin.role.config_admin.push(\"...@adobe.com\");\n",
    "\n",
    "console.log(siteCfg);"
   ]
  },
  {
   "cell_type": "markdown",
   "metadata": {},
   "source": [
    "### Post the site config to EDS"
   ]
  },
  {
   "cell_type": "code",
   "execution_count": null,
   "metadata": {},
   "outputs": [],
   "source": [
    "siteCfg.version = siteCfg.version + 1;\n",
    "\n",
    "const responsUpdated = await fetch(`https://admin.hlx.page/config/adobecom/sites/${site}.json`, {\n",
    "  method: 'POST',\n",
    "  headers: {\n",
    "    'content-type': 'application/json',\n",
    "    'x-auth-token': token,\n",
    "  },\n",
    "  body: JSON.stringify(siteCfg)\n",
    "});\n",
    "\n",
    "if (!responsUpdated.ok) {\n",
    "  logError(responsUpdated);\n",
    "}\n",
    "\n",
    "const outputFileUpdated = `${site}_updated.json`;\n",
    "const siteCfUpdated = await responsUpdated.json();\n",
    "await Deno.writeTextFile(outputFileUpdated, JSON.stringify(siteCfUpdated, null, 2));\n",
    "console.log(siteCfUpdated);"
   ]
  }
 ],
 "metadata": {
  "kernelspec": {
   "display_name": "Deno",
   "language": "typescript",
   "name": "deno"
  },
  "language_info": {
   "codemirror_mode": "typescript",
   "file_extension": ".ts",
   "mimetype": "text/x.typescript",
   "name": "typescript",
   "nbconvert_exporter": "script",
   "pygments_lexer": "typescript",
   "version": "5.8.3"
  }
 },
 "nbformat": 4,
 "nbformat_minor": 2
}

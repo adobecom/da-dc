{
 "cells": [
  {
   "cell_type": "markdown",
   "metadata": {},
   "source": [
    "### Set the auth toke and site"
   ]
  },
  {
   "cell_type": "code",
   "execution_count": 10,
   "metadata": {},
   "outputs": [],
   "source": [
    "const token = 'my auth token';\n",
    "const site = 'da-dc';\n",
    "\n",
    "async function logError(response) {\n",
    "  console.error(`Request failed with status: ${response.status} ${response.statusText}`);\n",
    "  \n",
    "  console.error('Response Headers:');\n",
    "  for (const [key, value] of response.headers.entries()) {\n",
    "    console.error(`  ${key}: ${value}`);\n",
    "  }\n",
    "  \n",
    "  try {\n",
    "    const errorData = await response.json();\n",
    "    console.error('Error Response Body:', errorData);\n",
    "  } catch (e) {\n",
    "    const errorText = await response.text();\n",
    "    console.error('Error Response Body (text):', errorText);\n",
    "  }\n",
    "  \n",
    "  throw new Error(`HTTP ${response.status}: ${response.statusText}`);\n",
    "}"
   ]
  },
  {
   "cell_type": "markdown",
   "metadata": {},
   "source": [
    "### Get the site config"
   ]
  },
  {
   "cell_type": "code",
   "execution_count": null,
   "metadata": {},
   "outputs": [],
   "source": [
    "const response = await fetch(`https://admin.hlx.page/config/adobecom/sites/${site}.json`, {\n",
    "  headers: {\n",
    "    'x-auth-token': token,\n",
    "  }\n",
    "});\n",
    "\n",
    "if (!response.ok) {\n",
    "  logError(response);\n",
    "}\n",
    "\n",
    "const outputFile = `${site}.json`;\n",
    "const data = await response.json();\n",
    "await Deno.writeTextFile(outputFile, JSON.stringify(data, null, 2));\n",
    "console.log(data);"
   ]
  },
  {
   "cell_type": "markdown",
   "metadata": {},
   "source": [
    "### Get the index config"
   ]
  },
  {
   "cell_type": "code",
   "execution_count": null,
   "metadata": {},
   "outputs": [],
   "source": [
    "const response = await fetch(`https://admin.hlx.page/config/adobecom/sites/${site}/content/query.yaml`, {\n",
    "  headers: {\n",
    "    'x-auth-token': token,\n",
    "  }\n",
    "});\n",
    "\n",
    "if (!response.ok) {\n",
    "  logError(response);\n",
    "}\n",
    "\n",
    "const outputFile = 'query.yaml';\n",
    "const data = await response.text();\n",
    "await Deno.writeTextFile(outputFile, data);\n",
    "console.log(data);"
   ]
  },
  {
   "cell_type": "markdown",
   "metadata": {},
   "source": [
    "### Get the sitemap config"
   ]
  },
  {
   "cell_type": "code",
   "execution_count": null,
   "metadata": {},
   "outputs": [],
   "source": [
    "const response = await fetch(`https://admin.hlx.page/config/adobecom/sites/${site}/content/sitemap.yaml`, {\n",
    "  headers: {\n",
    "    'x-auth-token': token,\n",
    "  }\n",
    "});\n",
    "\n",
    "if (!response.ok) {\n",
    "  logError(response);\n",
    "}\n",
    "\n",
    "const outputFile = 'sitemap.yaml';\n",
    "const data = await response.text();\n",
    "await Deno.writeTextFile(outputFile, data);\n",
    "console.log(data);"
   ]
  }
 ],
 "metadata": {
  "kernelspec": {
   "display_name": "Deno",
   "language": "typescript",
   "name": "deno"
  },
  "language_info": {
   "codemirror_mode": "typescript",
   "file_extension": ".ts",
   "mimetype": "text/x.typescript",
   "name": "typescript",
   "nbconvert_exporter": "script",
   "pygments_lexer": "typescript",
   "version": "5.8.3"
  }
 },
 "nbformat": 4,
 "nbformat_minor": 2
}

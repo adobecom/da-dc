{
 "cells": [
  {
   "cell_type": "markdown",
   "metadata": {},
   "source": [
    "### Set the auth toke and the DA site and the SharePoint site"
   ]
  },
  {
   "cell_type": "code",
   "execution_count": 3,
   "metadata": {},
   "outputs": [],
   "source": [
    "const token = 'My auth token';\n",
    "const daSite = 'da-dc';\n",
    "const spSite = 'dc';\n",
    "const content = 'live';   // live or preview\n",
    "\n",
    "async function logError(response) {\n",
    "  console.error(`Request failed with status: ${response.status} ${response.statusText}`);\n",
    "  \n",
    "  console.error('Response Headers:');\n",
    "  for (const [key, value] of response.headers.entries()) {\n",
    "    console.error(`  ${key}: ${value}`);\n",
    "  }\n",
    "  \n",
    "  try {\n",
    "    const errorData = await response.json();\n",
    "    console.error('Error Response Body:', errorData);\n",
    "  } catch (e) {\n",
    "    const errorText = await response.text();\n",
    "    console.error('Error Response Body (text):', errorText);\n",
    "  }\n",
    "  \n",
    "  throw new Error(`HTTP ${response.status}: ${response.statusText}`);\n",
    "}"
   ]
  },
  {
   "cell_type": "markdown",
   "metadata": {},
   "source": [
    "### Check the token"
   ]
  },
  {
   "cell_type": "code",
   "execution_count": null,
   "metadata": {},
   "outputs": [],
   "source": [
    "const responseSP = await fetch(`https://admin.hlx.page/status/adobecom/${spSite}/main/`, {\n",
    "  headers: {\n",
    "    'x-auth-token': token,\n",
    "  }\n",
    "});\n",
    "\n",
    "if (!responseSP.ok) {\n",
    "  logError(responseSP);\n",
    "} else {\n",
    "  console.log(`${spSite} is OK`);\n",
    "}\n",
    "\n",
    "const responseDA = await fetch(`https://admin.hlx.page/status/adobecom/${daSite}/main/`, {\n",
    "  headers: {\n",
    "    'x-auth-token': token,\n",
    "  }\n",
    "});\n",
    "\n",
    "if (!responseDA.ok) {\n",
    "  logError(responseDA);\n",
    "} else {\n",
    "  console.log(`${daSite} is OK`);\n",
    "}"
   ]
  },
  {
   "cell_type": "markdown",
   "metadata": {},
   "source": [
    "### Get the file lists from source and target sites"
   ]
  },
  {
   "cell_type": "code",
   "execution_count": null,
   "metadata": {},
   "outputs": [],
   "source": [
    "import { scheduler } from \"node:timers/promises\";\n",
    "\n",
    "const sites = [daSite, spSite];\n",
    "const files = {};\n",
    "\n",
    "for (const site of sites) {\n",
    "  const response = await fetch(`https://admin.hlx.page/status/adobecom/${site}/main/*`, {\n",
    "    method: 'POST',\n",
    "    headers: {\n",
    "      'x-auth-token': token,\n",
    "      'Content-Type': 'application/json'\n",
    "    },\n",
    "\n",
    "    body: JSON.stringify({\n",
    "      \"select\": [\n",
    "        content\n",
    "      ],\n",
    "      \"paths\": [\n",
    "        \"/*\"\n",
    "      ],\n",
    "      \"pathsOnly\": true\n",
    "    })\n",
    "  });\n",
    "\n",
    "  if (!response.ok) {\n",
    "    logError(response);\n",
    "  }\n",
    "\n",
    "  const data = await response.json();\n",
    "\n",
    "  const jobLink = data.links.self;\n",
    "  let jobDetails;\n",
    "\n",
    "  let retry = 10;\n",
    "  while (retry > 0) {\n",
    "    const responseState = await fetch(jobLink, {\n",
    "      headers: {\n",
    "        'x-auth-token': token\n",
    "      }\n",
    "    });\n",
    "\n",
    "    if (!responseState.ok) {\n",
    "      logError(responseState);\n",
    "    }\n",
    "\n",
    "    const dataState = await responseState.json();\n",
    "    //console.log(dataState);\n",
    "\n",
    "    if (dataState.state === 'stopped') {\n",
    "      jobDetails = dataState.links.details;\n",
    "      break;\n",
    "    }\n",
    "\n",
    "    await scheduler.wait(5000)\n",
    "    retry -= 1;\n",
    "  }\n",
    "\n",
    "  const responseDetail = await fetch(jobDetails, {\n",
    "    headers: {\n",
    "      'x-auth-token': token\n",
    "    }\n",
    "  });\n",
    "\n",
    "  if (!responseDetail.ok) {\n",
    "    logError(responseDetail);\n",
    "  }\n",
    "\n",
    "  const dataDetail = await responseDetail.json();\n",
    "  const fileList = dataDetail.data.resources[content];\n",
    "  files[site] = fileList;\n",
    "\n",
    "  console.log(`${content} page and asset count: ${fileList.length}`);\n",
    "\n",
    "  const fileName = `${site}_${content}.txt`;\n",
    "  await Deno.writeTextFile(fileName, fileList.join('\\n'));\n",
    "  console.log(`\\nOutput saved to: ${fileName}`);\n",
    "}"
   ]
  },
  {
   "cell_type": "markdown",
   "metadata": {},
   "source": [
    "### Find the differences"
   ]
  },
  {
   "cell_type": "code",
   "execution_count": null,
   "metadata": {},
   "outputs": [],
   "source": [
    "const spSet = new Set(files[spSite]);\n",
    "const daSet = new Set(files[daSite]);\n",
    "\n",
    "const spOnly = [...spSet.difference(daSet)];\n",
    "const daOnly = [...daSet.difference(spSet)];\n",
    "\n",
    "console.log(`Count of SP only files: ${spOnly.length}`);\n",
    "console.log(`Count of DA only files: ${daOnly.length}`);\n",
    "\n",
    "await Deno.writeTextFile(`${spSite}_only.txt`, spOnly.join('\\n'));\n",
    "await Deno.writeTextFile(`${daSite}_only.txt`, daOnly.join('\\n'));\n"
   ]
  },
  {
   "cell_type": "markdown",
   "metadata": {},
   "source": [
    "### Analyze SharePoint Only Files"
   ]
  },
  {
   "cell_type": "code",
   "execution_count": null,
   "metadata": {},
   "outputs": [],
   "source": [
    "// Not interested in these files\n",
    "const filters = ['query-index', 'sitemap.xml', 'sitemap-'];\n",
    "\n",
    "const missingFiles = spOnly.filter(x =>\n",
    "  !filters.some(filter => x.includes(filter)));\n",
    "\n",
    "await Deno.writeTextFile(`${spSite}_only_filtered.txt`, missingFiles.join('\\n'));\n",
    "\n",
    "console.log(`Count of SP only files after filtered: ${missingFiles.length}`);"
   ]
  },
  {
   "cell_type": "markdown",
   "metadata": {},
   "source": [
    "### Check Redirects"
   ]
  },
  {
   "cell_type": "code",
   "execution_count": null,
   "metadata": {},
   "outputs": [],
   "source": [
    "const status301 = [];\n",
    "const statusMap = {};\n",
    "let count = 0;\n",
    "\n",
    "for (const path of missingFiles) {\n",
    "  count += 1;\n",
    "  const url = `https://main--${spSite}--adobecom.aem.live${path}`;\n",
    "  const resp = await fetch(url, {\n",
    "    method: 'HEAD',\n",
    "    redirect: 'manual', \n",
    "  })\n",
    "\n",
    "  if (resp.status === 301) {\n",
    "    status301.push(`${url},${resp.headers.get('location')}`);\n",
    "  } else if (statusMap[resp.status]) {\n",
    "    statusMap[resp.status].push(url);\n",
    "  } else {\n",
    "    statusMap[resp.status] = [url];\n",
    "  }\n",
    "  if (count % 100 === 0) {\n",
    "    console.log(`${count}/${missingFiles.length}`);\n",
    "  }\n",
    "}\n",
    "\n",
    "await Deno.writeTextFile(`${spSite}_missing_redirects.txt`, status301.join('\\n'));\n",
    "console.log(`${spSite}_missing_redirects.txt`);\n",
    "\n",
    "for (const key of Object.keys(statusMap)) {\n",
    "  await Deno.writeTextFile(`${spSite}_missing_${key}.txt`, statusMap[key].join('\\n'));\n",
    "  console.log(`${spSite}_missing_${key}.txt`);\n",
    "}"
   ]
  }
 ],
 "metadata": {
  "kernelspec": {
   "display_name": "Deno",
   "language": "typescript",
   "name": "deno"
  },
  "language_info": {
   "codemirror_mode": "typescript",
   "file_extension": ".ts",
   "mimetype": "text/x.typescript",
   "name": "typescript",
   "nbconvert_exporter": "script",
   "pygments_lexer": "typescript",
   "version": "5.8.3"
  }
 },
 "nbformat": 4,
 "nbformat_minor": 2
}
